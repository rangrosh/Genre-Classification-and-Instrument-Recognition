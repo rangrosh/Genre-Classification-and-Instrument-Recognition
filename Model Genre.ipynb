{
 "cells": [
  {
   "cell_type": "code",
   "execution_count": 1,
   "metadata": {},
   "outputs": [
    {
     "name": "stderr",
     "output_type": "stream",
     "text": [
      "Using TensorFlow backend.\n"
     ]
    }
   ],
   "source": [
    "#importing packages\n",
    "\n",
    "import matplotlib.pyplot as plt\n",
    "import numpy as np\n",
    "import os\n",
    "import librosa\n",
    "import keras\n",
    "from keras import layers\n",
    "import keras.backend as K\n",
    "import random\n",
    "from tensorflow.keras.layers import Dense, Dropout, Activation, Flatten, Conv2D, MaxPooling2D\n",
    "from keras.callbacks import ModelCheckpoint\n",
    "from tensorflow.keras import regularizers"
   ]
  },
  {
   "cell_type": "code",
   "execution_count": 2,
   "metadata": {},
   "outputs": [],
   "source": [
    "MUSIC = r'C:\\Users\\user\\Desktop\\music\\genres_original'\n",
    "music_dataset = []\n",
    "genre_target = []\n",
    "\n",
    "for i in os.listdir(MUSIC):\n",
    "    for j in os.listdir(MUSIC + \"\\\\\" + i):\n",
    "        if i == 'metal':\n",
    "            y,_ = librosa.load(MUSIC + \"\\\\\" + i + \"\\\\\" + j)\n",
    "            length = len(y)\n",
    "            for j in range(6):\n",
    "                if (j+1)*5*22050<=length:\n",
    "                    music_dataset.append(y[j*5*22050:(j+1)*5*22050])\n",
    "                    genre_target.append(0)\n",
    "        elif i == 'blues':\n",
    "            y,_ = librosa.load(MUSIC + \"\\\\\" + i + \"\\\\\" + j)\n",
    "            length = len(y)\n",
    "            for j in range(6):\n",
    "                if (j+1)*5*22050<=length:\n",
    "                    music_dataset.append(y[j*5*22050:(j+1)*5*22050])\n",
    "                    genre_target.append(1)\n",
    "        elif i == 'classical':\n",
    "            y,_ = librosa.load(MUSIC + \"\\\\\" + i + \"\\\\\" + j)\n",
    "            length = len(y)\n",
    "            for j in range(6):\n",
    "                if (j+1)*5*22050<=length:\n",
    "                    music_dataset.append(y[j*5*22050:(j+1)*5*22050])\n",
    "                    genre_target.append(2)    \n",
    "        elif i == 'hiphop':\n",
    "            y,_ = librosa.load(MUSIC + \"\\\\\" + i + \"\\\\\" + j)\n",
    "            length = len(y)\n",
    "            for j in range(6):\n",
    "                if (j+1)*5*22050<=length:\n",
    "                    music_dataset.append(y[j*5*22050:(j+1)*5*22050])\n",
    "                    genre_target.append(3)\n",
    "        elif i == 'pop':\n",
    "            y,_ = librosa.load(MUSIC + \"\\\\\" + i + \"\\\\\" + j)\n",
    "            length = len(y)\n",
    "            for j in range(6):\n",
    "                if (j+1)*5*22050<=length:\n",
    "                    music_dataset.append(y[j*5*22050:(j+1)*5*22050])\n",
    "                    genre_target.append(4)                   "
   ]
  },
  {
   "cell_type": "code",
   "execution_count": 3,
   "metadata": {},
   "outputs": [
    {
     "name": "stdout",
     "output_type": "stream",
     "text": [
      "2996\n"
     ]
    }
   ],
   "source": [
    "total_no = len(music_dataset)\n",
    "print(total_no)"
   ]
  },
  {
   "cell_type": "code",
   "execution_count": 4,
   "metadata": {},
   "outputs": [],
   "source": [
    "zcr = np.zeros((total_no,216))\n",
    "centroid = np.zeros((total_no,216))\n",
    "rolloff = np.zeros((total_no,216))\n",
    "bandwidth=np.zeros((total_no,216))\n",
    "\n",
    "mfcc = np.zeros((total_no,20,216))\n",
    "\n",
    "for i in range(total_no):\n",
    "    zcr[i] = librosa.feature.zero_crossing_rate(music_dataset[i])[0]\n",
    "    centroid[i] = librosa.feature.spectral_centroid(y=music_dataset[i])[0]\n",
    "    rolloff[i] = librosa.feature.spectral_rolloff(y=music_dataset[i])[0]\n",
    "    bandwidth[i] = librosa.feature.spectral_bandwidth(y=music_dataset[i])[0]\n",
    "    mfcc[i] = librosa.power_to_db(librosa.feature.mfcc(y=music_dataset[i], sr=22050), ref=np.max)"
   ]
  },
  {
   "cell_type": "code",
   "execution_count": 5,
   "metadata": {},
   "outputs": [],
   "source": [
    "#changing the numeric features into an image of size 4,216\n",
    "numeric = np.zeros((total_no,4,216,1))\n",
    "numeric[:,0,:,0] = zcr\n",
    "numeric[:,1,:,0] = centroid/11025\n",
    "numeric[:,2,:,0] = rolloff/11025\n",
    "numeric[:,3,:,0] = bandwidth/11025"
   ]
  },
  {
   "cell_type": "code",
   "execution_count": 6,
   "metadata": {},
   "outputs": [],
   "source": [
    "#Shuffling the dataset\n",
    "X_numeric = np.zeros((total_no,4,216,1))\n",
    "X_mfcc = np.zeros((total_no,20,216,1))\n",
    "Y = np.zeros(len(genre_target))\n",
    "\n",
    "shuffle_index = [i for i in range(total_no)]\n",
    "random.shuffle(shuffle_index)\n",
    "for i in range(total_no):\n",
    "    X_numeric[i] = numeric[shuffle_index[i]]\n",
    "    X_mfcc[i,:,:,0] = mfcc[shuffle_index[i]]/80 + 1\n",
    "    Y[i] = genre_target[shuffle_index[i]]"
   ]
  },
  {
   "cell_type": "code",
   "execution_count": 7,
   "metadata": {},
   "outputs": [],
   "source": [
    "#splitting the dataset to train and test set\n",
    "X_train_numeric = X_numeric[:2700]\n",
    "X_train_mfcc = X_mfcc[:2700]\n",
    "Y_train = Y[:2700]\n",
    "\n",
    "X_val_numeric = X_numeric[2700:2850]\n",
    "X_val_mfcc = X_mfcc[2700:2850]\n",
    "Y_val = Y[2700:2850]\n",
    "\n",
    "X_test_numeric = X_numeric[2850:]\n",
    "X_test_mfcc = X_mfcc[2850:]\n",
    "Y_test = Y[2850:]"
   ]
  },
  {
   "cell_type": "code",
   "execution_count": 13,
   "metadata": {},
   "outputs": [],
   "source": [
    "numeric = keras.Input(shape=(4,216,1))\n",
    "mfcc = keras.Input(shape=(20,216,1))\n",
    "\n",
    "x = layers.Conv2D(16, (3, 3), activation='relu', padding='same')(numeric)\n",
    "x = layers.Flatten()(x)\n",
    "x = layers.Dense(256, activation=\"relu\")(x)\n",
    "x = keras.Model(inputs=numeric, outputs=x)\n",
    "\n",
    "y = layers.Conv2D(64, (3, 3), activation='relu', padding='same')(mfcc)\n",
    "y = layers.MaxPooling2D((2, 4), padding='same')(y)\n",
    "y = layers.Conv2D(32, (3, 3), activation='relu', padding='same')(y)\n",
    "y = layers.MaxPooling2D((2, 4), padding='same')(y)\n",
    "y = layers.Conv2D(16, (3, 3), activation='relu', padding='same')(y)\n",
    "y = layers.MaxPooling2D((2, 4), padding='same')(y)\n",
    "y = layers.Flatten()(y)\n",
    "y = layers.Dense(256, activation=\"relu\")(y)\n",
    "y = keras.Model(inputs=mfcc, outputs=y)\n",
    "\n",
    "combined = layers.concatenate([x.output, y.output])\n",
    "z = layers.Dense(64, activation=\"relu\")(combined)\n",
    "z = layers.Dense(5, activation=\"softmax\")(z)\n",
    "\n",
    "model = keras.Model(inputs=[x.input, y.input], outputs=z)"
   ]
  },
  {
   "cell_type": "code",
   "execution_count": 14,
   "metadata": {},
   "outputs": [],
   "source": [
    "model.compile(optimizer='adam',\n",
    "              loss='sparse_categorical_crossentropy',\n",
    "              metrics=['accuracy'])"
   ]
  },
  {
   "cell_type": "code",
   "execution_count": 17,
   "metadata": {},
   "outputs": [
    {
     "name": "stdout",
     "output_type": "stream",
     "text": [
      "Train on 2700 samples, validate on 150 samples\n",
      "Epoch 1/20\n",
      "2700/2700 [==============================] - 6s 2ms/step - loss: 0.1827 - accuracy: 0.9311 - val_loss: 0.4389 - val_accuracy: 0.8133\n",
      "Epoch 2/20\n",
      "2700/2700 [==============================] - 6s 2ms/step - loss: 0.1580 - accuracy: 0.9430 - val_loss: 0.4535 - val_accuracy: 0.8133\n",
      "Epoch 3/20\n",
      "2700/2700 [==============================] - 6s 2ms/step - loss: 0.1761 - accuracy: 0.9396 - val_loss: 0.4672 - val_accuracy: 0.8200\n",
      "Epoch 4/20\n",
      "2700/2700 [==============================] - 7s 3ms/step - loss: 0.1589 - accuracy: 0.9433 - val_loss: 0.5279 - val_accuracy: 0.7800\n",
      "Epoch 5/20\n",
      "2700/2700 [==============================] - 6s 2ms/step - loss: 0.1740 - accuracy: 0.9289 - val_loss: 0.5183 - val_accuracy: 0.7867\n",
      "Epoch 6/20\n",
      "2700/2700 [==============================] - 6s 2ms/step - loss: 0.1504 - accuracy: 0.9459 - val_loss: 0.4016 - val_accuracy: 0.8267\n",
      "Epoch 7/20\n",
      "2700/2700 [==============================] - 7s 3ms/step - loss: 0.1214 - accuracy: 0.9630 - val_loss: 0.3918 - val_accuracy: 0.8333\n",
      "Epoch 8/20\n",
      "2700/2700 [==============================] - 6s 2ms/step - loss: 0.1230 - accuracy: 0.9659 - val_loss: 0.4336 - val_accuracy: 0.8200\n",
      "Epoch 9/20\n",
      "2700/2700 [==============================] - 6s 2ms/step - loss: 0.1148 - accuracy: 0.9633 - val_loss: 0.4279 - val_accuracy: 0.8267\n",
      "Epoch 10/20\n",
      "2700/2700 [==============================] - 6s 2ms/step - loss: 0.1074 - accuracy: 0.9707 - val_loss: 0.4074 - val_accuracy: 0.8333\n",
      "Epoch 11/20\n",
      "2700/2700 [==============================] - 6s 2ms/step - loss: 0.0998 - accuracy: 0.9774 - val_loss: 0.4363 - val_accuracy: 0.8200\n",
      "Epoch 12/20\n",
      "2700/2700 [==============================] - 6s 2ms/step - loss: 0.1075 - accuracy: 0.9667 - val_loss: 0.4294 - val_accuracy: 0.8267\n",
      "Epoch 13/20\n",
      "2700/2700 [==============================] - 6s 2ms/step - loss: 0.1037 - accuracy: 0.9737 - val_loss: 0.4370 - val_accuracy: 0.8267\n",
      "Epoch 14/20\n",
      "2700/2700 [==============================] - 6s 2ms/step - loss: 0.1000 - accuracy: 0.9704 - val_loss: 0.4667 - val_accuracy: 0.8267\n",
      "Epoch 15/20\n",
      "2700/2700 [==============================] - 6s 2ms/step - loss: 0.1038 - accuracy: 0.9704 - val_loss: 0.3800 - val_accuracy: 0.8600\n",
      "Epoch 16/20\n",
      "2700/2700 [==============================] - 6s 2ms/step - loss: 0.0797 - accuracy: 0.9819 - val_loss: 0.4057 - val_accuracy: 0.8467\n",
      "Epoch 17/20\n",
      "2700/2700 [==============================] - 6s 2ms/step - loss: 0.0811 - accuracy: 0.9811 - val_loss: 0.4500 - val_accuracy: 0.8467\n",
      "Epoch 18/20\n",
      "2700/2700 [==============================] - 6s 2ms/step - loss: 0.0763 - accuracy: 0.9822 - val_loss: 0.4148 - val_accuracy: 0.8333\n",
      "Epoch 19/20\n",
      "2700/2700 [==============================] - 6s 2ms/step - loss: 0.0685 - accuracy: 0.9874 - val_loss: 0.4134 - val_accuracy: 0.8400\n",
      "Epoch 20/20\n",
      "2700/2700 [==============================] - 6s 2ms/step - loss: 0.0765 - accuracy: 0.9804 - val_loss: 0.4234 - val_accuracy: 0.8400\n"
     ]
    },
    {
     "data": {
      "text/plain": [
       "<keras.callbacks.callbacks.History at 0x11096d16550>"
      ]
     },
     "execution_count": 17,
     "metadata": {},
     "output_type": "execute_result"
    }
   ],
   "source": [
    "# Fitting our neural network\n",
    "mc_loss = ModelCheckpoint(r\"C:\\Users\\user\\Desktop\\best_genre_model_loss\", monitor='val_loss', mode='min', verbose=0, save_best_only=True)\n",
    "mc_acc = ModelCheckpoint(r\"C:\\Users\\user\\Desktop\\best_genre_model_accuracy\", monitor='val_accuracy', mode='max', verbose=0, save_best_only=True)\n",
    "model.fit([X_train_numeric,X_train_mfcc]\n",
    "          ,Y_train,epochs = 20\n",
    "          ,batch_size=512\n",
    "          ,validation_data=([X_val_numeric,X_val_mfcc],Y_val)\n",
    "          ,callbacks = [mc_loss,mc_acc])"
   ]
  },
  {
   "cell_type": "code",
   "execution_count": 16,
   "metadata": {},
   "outputs": [
    {
     "name": "stdout",
     "output_type": "stream",
     "text": [
      "146/146 [==============================] - 0s 1ms/step\n",
      "Final model accuracy - 0.7945205569267273\n",
      "146/146 [==============================] - 0s 1ms/step\n",
      "Best accuracy model accuracy - 0.8287671208381653\n",
      "146/146 [==============================] - 0s 1ms/step\n",
      "Best accuracy model loss - 0.8287671208381653\n"
     ]
    }
   ],
   "source": [
    "test_loss, test_acc = model.evaluate([X_test_numeric,X_test_mfcc],Y_test)\n",
    "print(\"Final model accuracy - \" + str(test_acc))\n",
    "model1 = keras.models.load_model(r\"C:\\Users\\user\\Desktop\\best_genre_model_accuracy\")\n",
    "test_loss, test_acc = model1.evaluate([X_test_numeric,X_test_mfcc],Y_test)\n",
    "print(\"Best accuracy model accuracy - \" + str(test_acc))\n",
    "model1 = keras.models.load_model(r\"C:\\Users\\user\\Desktop\\best_genre_model_loss\")\n",
    "test_loss, test_acc = model1.evaluate([X_test_numeric,X_test_mfcc],Y_test)\n",
    "print(\"Best accuracy model loss - \" + str(test_acc))"
   ]
  },
  {
   "cell_type": "code",
   "execution_count": null,
   "metadata": {},
   "outputs": [],
   "source": []
  }
 ],
 "metadata": {
  "kernelspec": {
   "display_name": "Python 3",
   "language": "python",
   "name": "python3"
  },
  "language_info": {
   "codemirror_mode": {
    "name": "ipython",
    "version": 3
   },
   "file_extension": ".py",
   "mimetype": "text/x-python",
   "name": "python",
   "nbconvert_exporter": "python",
   "pygments_lexer": "ipython3",
   "version": "3.7.4"
  }
 },
 "nbformat": 4,
 "nbformat_minor": 4
}
