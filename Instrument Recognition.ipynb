{
 "cells": [
  {
   "cell_type": "markdown",
   "metadata": {},
   "source": [
    "# Program to recognise instruments present in a musical file"
   ]
  },
  {
   "cell_type": "code",
   "execution_count": 2,
   "metadata": {},
   "outputs": [
    {
     "name": "stderr",
     "output_type": "stream",
     "text": [
      "c:\\users\\rangr\\appdata\\local\\programs\\python\\python37\\lib\\site-packages\\numpy\\_distributor_init.py:32: UserWarning: loaded more than 1 DLL from .libs:\n",
      "c:\\users\\rangr\\appdata\\local\\programs\\python\\python37\\lib\\site-packages\\numpy\\.libs\\libopenblas.NOIJJG62EMASZI6NYURL6JBKM4EVBGM7.gfortran-win_amd64.dll\n",
      "c:\\users\\rangr\\appdata\\local\\programs\\python\\python37\\lib\\site-packages\\numpy\\.libs\\libopenblas.WCDJNK7YVMPZQ2ME2ZZHJJRJ3JIKNDB7.gfortran-win_amd64.dll\n",
      "  stacklevel=1)\n"
     ]
    }
   ],
   "source": [
    "#importing packages\n",
    "\n",
    "import matplotlib.pyplot as plt\n",
    "import numpy as np\n",
    "import os\n",
    "import librosa\n",
    "import librosa.display\n",
    "import keras\n",
    "from keras import layers\n",
    "import keras.backend as K\n",
    "import random\n",
    "from tensorflow.keras.layers import Dense, Dropout, Activation, Flatten, Conv2D, MaxPooling2D\n",
    "from keras.utils import to_categorical\n",
    "from keras.layers import BatchNormalization\n",
    "import matplotlib.pyplot as plt\n"
   ]
  },
  {
   "cell_type": "markdown",
   "metadata": {},
   "source": [
    "# Importing the musical files from the dataset"
   ]
  },
  {
   "cell_type": "code",
   "execution_count": 3,
   "metadata": {},
   "outputs": [],
   "source": [
    "MUSIC = r'D:\\Genre Classification\\Instrument'\n",
    "music_dataset = []\n",
    "genre_target = []\n",
    "\n",
    "for i in os.listdir(MUSIC):\n",
    "    for j in os.listdir(MUSIC + \"\\\\\" + i):\n",
    "        if i == 'bass_electronic':\n",
    "            y,_ = librosa.load(MUSIC + \"\\\\\" + i + \"\\\\\" + j)\n",
    "            length = len(y)\n",
    "            for j in range(2):\n",
    "                if (j+1)*2*22050<=length:\n",
    "                    music_dataset.append(y[j*2*22050:(j+1)*2*22050]) # append adds the data to the array in the next colunm\n",
    "                    genre_target.append(0)\n",
    "        elif i == 'bass_synthetic':\n",
    "            y,_ = librosa.load(MUSIC + \"\\\\\" + i + \"\\\\\" + j)\n",
    "            length = len(y)\n",
    "            for j in range(2):\n",
    "                if (j+1)*2*22050<=length:\n",
    "                    music_dataset.append(y[j*2*22050:(j+1)*2*22050])\n",
    "                    genre_target.append(1)\n",
    "        elif i == 'brass_acoustic':\n",
    "            y,_ = librosa.load(MUSIC + \"\\\\\" + i + \"\\\\\" + j)\n",
    "            length = len(y)\n",
    "            for j in range(2):\n",
    "                if (j+1)*2*22050<=length:\n",
    "                    music_dataset.append(y[j*2*22050:(j+1)*2*22050])\n",
    "                    genre_target.append(2)            \n",
    "        elif i == 'flute_synthetic':\n",
    "            y,_ = librosa.load(MUSIC + \"\\\\\" + i + \"\\\\\" + j)\n",
    "            length = len(y)\n",
    "            for j in range(2):\n",
    "                if (j+1)*2*22050<=length:\n",
    "                    music_dataset.append(y[j*2*22050:(j+1)*2*22050])\n",
    "                    genre_target.append(3)\n",
    "        elif i == 'guitar_acoustic':\n",
    "            y,_ = librosa.load(MUSIC + \"\\\\\" + i + \"\\\\\" + j)\n",
    "            length = len(y)\n",
    "            for j in range(2):\n",
    "                if (j+1)*2*22050<=length:\n",
    "                    music_dataset.append(y[j*2*22050:(j+1)*2*22050])\n",
    "                    genre_target.append(4)   \n",
    "        elif i == 'guitar_electronic':\n",
    "            y,_ = librosa.load(MUSIC + \"\\\\\" + i + \"\\\\\" + j)\n",
    "            length = len(y)\n",
    "            for j in range(2):\n",
    "                if (j+1)*2*22050<=length:\n",
    "                    music_dataset.append(y[j*2*22050:(j+1)*2*22050])\n",
    "                    genre_target.append(5)\n",
    "        elif i == 'keyboard_acoustic':\n",
    "            y,_ = librosa.load(MUSIC + \"\\\\\" + i + \"\\\\\" + j)\n",
    "            length = len(y)\n",
    "            for j in range(2):\n",
    "                if (j+1)*2*22050<=length:\n",
    "                    music_dataset.append(y[j*2*22050:(j+1)*2*22050])\n",
    "                    genre_target.append(6)         \n",
    "        elif i == 'keyboard_electronic':\n",
    "            y,_ = librosa.load(MUSIC + \"\\\\\" + i + \"\\\\\" + j)\n",
    "            length = len(y)\n",
    "            for j in range(2):\n",
    "                if (j+1)*2*22050<=length:\n",
    "                    music_dataset.append(y[j*2*22050:(j+1)*2*22050])\n",
    "                    genre_target.append(7)              \n",
    "        elif i == 'keyboard_synthetic':\n",
    "            y,_ = librosa.load(MUSIC + \"\\\\\" + i + \"\\\\\" + j)\n",
    "            length = len(y)\n",
    "            for j in range(2):\n",
    "                if (j+1)*2*22050<=length:\n",
    "                    music_dataset.append(y[j*2*22050:(j+1)*2*22050])\n",
    "                    genre_target.append(8)     \n",
    "        elif i == 'vocal_synthetic':\n",
    "            y,_ = librosa.load(MUSIC + \"\\\\\" + i + \"\\\\\" + j)\n",
    "            length = len(y)\n",
    "            for j in range(2):\n",
    "                if (j+1)*2*22050<=length:\n",
    "                    music_dataset.append(y[j*2*22050:(j+1)*2*22050])\n",
    "                    genre_target.append(9) \n",
    "        elif i == 'organ_electronic':\n",
    "            y,_ = librosa.load(MUSIC + \"\\\\\" + i + \"\\\\\" + j)\n",
    "            length = len(y)\n",
    "            for j in range(2):\n",
    "                if (j+1)*2*22050<=length:\n",
    "                    music_dataset.append(y[j*2*22050:(j+1)*2*22050])\n",
    "                    genre_target.append(10)                     "
   ]
  },
  {
   "cell_type": "code",
   "execution_count": 4,
   "metadata": {},
   "outputs": [
    {
     "name": "stdout",
     "output_type": "stream",
     "text": [
      "2988\n"
     ]
    }
   ],
   "source": [
    "total_no = len(music_dataset)\n",
    "print(total_no)"
   ]
  },
  {
   "cell_type": "markdown",
   "metadata": {},
   "source": [
    "# Finding features from the musical files"
   ]
  },
  {
   "cell_type": "code",
   "execution_count": 5,
   "metadata": {},
   "outputs": [],
   "source": [
    "zcr = np.zeros(total_no)\n",
    "centroid = np.zeros(total_no)\n",
    "rolloff = np.zeros(total_no)\n",
    "bandwidth=np.zeros(total_no)\n",
    "\n",
    "mfcc = np.zeros((total_no,20,87))\n",
    "\n",
    "for i in range(total_no):\n",
    "    zcr[i] = np.mean(librosa.feature.zero_crossing_rate(music_dataset[i])[0])\n",
    "    centroid[i] = np.mean(librosa.feature.spectral_centroid(y=music_dataset[i], sr=22050)[0])\n",
    "    rolloff[i] = np.mean(librosa.feature.spectral_rolloff(y=music_dataset[i], sr=22050)[0])\n",
    "    bandwidth[i]=np.mean(librosa.feature.spectral_bandwidth(y=music_dataset[i], sr=22050)[0])\n",
    "    mfcc[i] = librosa.power_to_db(librosa.feature.mfcc(y=music_dataset[i], sr=22050), ref=np.max)"
   ]
  },
  {
   "cell_type": "code",
   "execution_count": 6,
   "metadata": {},
   "outputs": [],
   "source": [
    "zcr_min = np.amin(zcr)\n",
    "zcr_max = np.amax(zcr)\n",
    "centroid_min = np.amin(centroid)\n",
    "centroid_max = np.amax(centroid)\n",
    "rolloff_min = np.amin(rolloff)\n",
    "rolloff_max = np.amax(rolloff)\n",
    "bandwidth_min=np.amin(bandwidth)\n",
    "bandwidth_max=np.amax(bandwidth)"
   ]
  },
  {
   "cell_type": "code",
   "execution_count": 7,
   "metadata": {},
   "outputs": [],
   "source": [
    "#Normalization\n",
    "numeric_features = np.zeros((total_no,4))\n",
    "numeric_features[:,0] = (zcr-zcr_min)/(zcr_max-zcr_min)\n",
    "numeric_features[:,1] = (centroid-centroid_min)/(centroid_max-centroid_min)\n",
    "numeric_features[:,2] = (rolloff-rolloff_min)/(rolloff_max-rolloff_min)\n",
    "numeric_features[:,3] = (bandwidth-bandwidth_min)/(bandwidth_max-bandwidth_min)"
   ]
  },
  {
   "cell_type": "code",
   "execution_count": 8,
   "metadata": {},
   "outputs": [
    {
     "name": "stdout",
     "output_type": "stream",
     "text": [
      "(2988, 20, 87)\n",
      "(2988, 4)\n"
     ]
    }
   ],
   "source": [
    "print(np.shape(mfcc))\n",
    "print(np.shape(numeric_features))"
   ]
  },
  {
   "cell_type": "markdown",
   "metadata": {},
   "source": [
    "# Pre-Processing the dataset"
   ]
  },
  {
   "cell_type": "code",
   "execution_count": 13,
   "metadata": {},
   "outputs": [],
   "source": [
    "#Shuffling the dataset\n",
    "X_numeric = np.zeros(np.shape(numeric_features))\n",
    "X_mfcc = np.zeros((2988,20,87,1))\n",
    "Y = np.zeros(len(genre_target))\n",
    "\n",
    "shuffle_index = [i for i in range(total_no)]\n",
    "random.shuffle(shuffle_index)\n",
    "for i in range(total_no):\n",
    "    X_numeric[i] = numeric_features[shuffle_index[i]]\n",
    "    X_mfcc[i,:,:,0] = mfcc[shuffle_index[i]]\n",
    "    Y[i] = genre_target[shuffle_index[i]]"
   ]
  },
  {
   "cell_type": "code",
   "execution_count": 14,
   "metadata": {},
   "outputs": [],
   "source": [
    "#splitting the dataset to train and test set\n",
    "X_train_numeric = X_numeric[:1494]\n",
    "X_train_mfcc = X_mfcc[:1494]\n",
    "Y_train = Y[:1494]\n",
    "\n",
    "X_test_numeric = X_numeric[1494:]\n",
    "X_test_mfcc = X_mfcc[1494:]\n",
    "Y_test = Y[1494:]"
   ]
  },
  {
   "cell_type": "markdown",
   "metadata": {},
   "source": [
    "# Feeding it to the Neural Network"
   ]
  },
  {
   "cell_type": "code",
   "execution_count": 15,
   "metadata": {},
   "outputs": [],
   "source": [
    "numeric = keras.Input(shape=(4,))\n",
    "image= keras.Input(shape=(20,87,1))\n",
    "\n",
    "x = layers.Dense(16, activation=\"relu\")(numeric)\n",
    "x = layers.Dense(8, activation=\"relu\")(x)\n",
    "x = keras.Model(inputs=numeric, outputs=x)\n",
    "\n",
    "\n",
    "\n",
    "y = layers.Conv2D(64, (3, 3), activation='relu', padding='same')(image)\n",
    "y = layers.Conv2D(64, (3, 3), activation='relu', padding='same')(y)\n",
    "y = layers.MaxPooling2D((2, 4), padding='same')(y)\n",
    " \n",
    "y = layers.Conv2D(32, (3, 3), activation='relu', padding='same')(y)\n",
    "y = layers.Conv2D(32, (3, 3), activation='relu', padding='same')(y)\n",
    "y = layers.Conv2D(32, (3, 3), activation='relu', padding='same')(y)\n",
    "y = layers.MaxPooling2D((2, 4), padding='same')(y)\n",
    " \n",
    "y = layers.Conv2D(16, (3, 3), activation='relu', padding='same')(y)\n",
    "y = layers.Conv2D(16, (3, 3), activation='relu', padding='same')(y)\n",
    "y = layers.Conv2D(16, (3, 3), activation='relu', padding='same')(y)\n",
    "y = layers.MaxPooling2D((2, 4), padding='same')(y)\n",
    "\n",
    "\n",
    "\n",
    "y = layers.Flatten()(y)\n",
    "y = keras.Model(inputs=image, outputs=y)\n",
    "\n",
    "combined = layers.concatenate([x.output, y.output])\n",
    "\n",
    "z = layers.Dense(1024, activation=\"relu\")(combined)\n",
    "\n",
    "z = layers.Dense(256, activation=\"relu\")(z)\n",
    "\n",
    "z = layers.Dense(11, activation=\"softmax\")(z)\n",
    "\n",
    "model = keras.Model(inputs=[x.input, y.input], outputs=z)"
   ]
  },
  {
   "cell_type": "code",
   "execution_count": 16,
   "metadata": {},
   "outputs": [],
   "source": [
    "model.compile(optimizer='adam',\n",
    "              loss='sparse_categorical_crossentropy',\n",
    "              metrics=['accuracy'])"
   ]
  },
  {
   "cell_type": "code",
   "execution_count": 19,
   "metadata": {},
   "outputs": [
    {
     "name": "stdout",
     "output_type": "stream",
     "text": [
      "Epoch 1/25\n",
      "498/498 [==============================] - 15s 28ms/step - loss: 0.7698 - accuracy: 0.7135\n",
      "Epoch 2/25\n",
      "498/498 [==============================] - 14s 28ms/step - loss: 0.6258 - accuracy: 0.7751\n",
      "Epoch 3/25\n",
      "498/498 [==============================] - 14s 29ms/step - loss: 0.4651 - accuracy: 0.8226\n",
      "Epoch 4/25\n",
      "498/498 [==============================] - 14s 28ms/step - loss: 0.4744 - accuracy: 0.8206\n",
      "Epoch 5/25\n",
      "498/498 [==============================] - 14s 28ms/step - loss: 0.4594 - accuracy: 0.8246\n",
      "Epoch 6/25\n",
      "498/498 [==============================] - 14s 28ms/step - loss: 0.4126 - accuracy: 0.8447\n",
      "Epoch 7/25\n",
      "498/498 [==============================] - 14s 28ms/step - loss: 0.3393 - accuracy: 0.8722\n",
      "Epoch 8/25\n",
      "498/498 [==============================] - 15s 30ms/step - loss: 0.3173 - accuracy: 0.88690s - loss: 0.3\n",
      "Epoch 9/25\n",
      "498/498 [==============================] - 15s 31ms/step - loss: 0.4208 - accuracy: 0.8561\n",
      "Epoch 10/25\n",
      "498/498 [==============================] - 17s 33ms/step - loss: 0.3384 - accuracy: 0.87750s - loss: 0.3391 - accuracy: 0.\n",
      "Epoch 11/25\n",
      "498/498 [==============================] - 20s 40ms/step - loss: 0.3721 - accuracy: 0.86141s - ETA: 0s - loss: 0.3625 - \n",
      "Epoch 12/25\n",
      "498/498 [==============================] - 16s 32ms/step - loss: 0.2961 - accuracy: 0.8969\n",
      "Epoch 13/25\n",
      "498/498 [==============================] - 14s 28ms/step - loss: 0.3210 - accuracy: 0.8936\n",
      "Epoch 14/25\n",
      "498/498 [==============================] - 16s 33ms/step - loss: 0.2690 - accuracy: 0.9023\n",
      "Epoch 15/25\n",
      "498/498 [==============================] - 16s 31ms/step - loss: 0.1908 - accuracy: 0.9378\n",
      "Epoch 16/25\n",
      "498/498 [==============================] - 15s 30ms/step - loss: 0.2246 - accuracy: 0.9163\n",
      "Epoch 17/25\n",
      "498/498 [==============================] - 16s 32ms/step - loss: 0.3176 - accuracy: 0.8889\n",
      "Epoch 18/25\n",
      "498/498 [==============================] - 15s 30ms/step - loss: 0.1999 - accuracy: 0.92900s - l\n",
      "Epoch 19/25\n",
      "498/498 [==============================] - 15s 30ms/step - loss: 0.2415 - accuracy: 0.9203: 11s - loss: 0.1606 -  - E\n",
      "Epoch 20/25\n",
      "498/498 [==============================] - 16s 31ms/step - loss: 0.2537 - accuracy: 0.9116\n",
      "Epoch 21/25\n",
      "498/498 [==============================] - 15s 30ms/step - loss: 0.1634 - accuracy: 0.9478: 13s - loss: 0.1371 - accuracy: 0 -  - ETA: 10s - loss: 0.1453 - accuracy: 0.956 - ETA: 10s - loss: 0.1447 - a - ETA: 4s - l - ETA: 0s - loss:\n",
      "Epoch 22/25\n",
      "498/498 [==============================] - 15s 31ms/step - loss: 0.1952 - accuracy: 0.9351: 13s - loss: 0.2200 - accuracy:  - ETA: 8s - loss: 0.2\n",
      "Epoch 23/25\n",
      "498/498 [==============================] - 17s 33ms/step - loss: 0.4117 - accuracy: 0.8768\n",
      "Epoch 24/25\n",
      "498/498 [==============================] - 15s 30ms/step - loss: 0.2302 - accuracy: 0.9190\n",
      "Epoch 25/25\n",
      "498/498 [==============================] - 15s 30ms/step - loss: 0.2018 - accuracy: 0.9297\n"
     ]
    },
    {
     "data": {
      "text/plain": [
       "<tensorflow.python.keras.callbacks.History at 0x2329ac58f48>"
      ]
     },
     "execution_count": 19,
     "metadata": {},
     "output_type": "execute_result"
    }
   ],
   "source": [
    "# Fitting our neural network\n",
    "model.fit([X_train_numeric,X_train_mfcc],Y_train,epochs=25,batch_size=3)"
   ]
  },
  {
   "cell_type": "code",
   "execution_count": 21,
   "metadata": {},
   "outputs": [
    {
     "name": "stdout",
     "output_type": "stream",
     "text": [
      "47/47 [==============================] - 2s 40ms/step - loss: 0.5516 - accuracy: 0.8246\n",
      "0.8246318697929382\n"
     ]
    }
   ],
   "source": [
    "test_loss, test_acc = model.evaluate([X_test_numeric,X_test_mfcc],Y_test)\n",
    "print(test_acc)"
   ]
  },
  {
   "cell_type": "markdown",
   "metadata": {},
   "source": [
    "# The following is to check prediction for a custom input:"
   ]
  },
  {
   "cell_type": "code",
   "execution_count": 22,
   "metadata": {},
   "outputs": [],
   "source": [
    "def probability(y):\n",
    "    \n",
    "    test_dataset = []\n",
    "    length = len(y)\n",
    "    for j in range(1000):\n",
    "        if (j+1)*2*22050<=length:\n",
    "            test_dataset.append(y[j*2*22050:(j+1)*2*22050])\n",
    "            \n",
    "    total_no_test = len(test_dataset)\n",
    "    \n",
    "    zcr_test = np.zeros(total_no_test)\n",
    "    centroid_test = np.zeros(total_no_test)\n",
    "    rolloff_test = np.zeros(total_no_test)\n",
    "    mfcc_test = np.zeros((total_no_test,20,87,1))\n",
    "\n",
    "    for i in range(total_no_test):\n",
    "        zcr_test[i] = np.mean(librosa.feature.zero_crossing_rate(test_dataset[i])[0])\n",
    "        centroid_test[i] = np.mean(librosa.feature.spectral_centroid(y=test_dataset[i], sr=22050)[0])\n",
    "        rolloff_test[i] = np.mean(librosa.feature.spectral_rolloff(y=test_dataset[i], sr=22050)[0])\n",
    "        mfcc_test[i,:,:,0] = librosa.power_to_db(librosa.feature.mfcc(y=test_dataset[i], sr=22050), ref=np.max)\n",
    "        \n",
    "    numeric_features_test = np.zeros((total_no_test,4))\n",
    "    numeric_features_test[:,0] = (zcr_test-zcr_min)/(zcr_max-zcr_min)\n",
    "    numeric_features_test[:,1] = (centroid_test-centroid_min)/(centroid_max-centroid_min)\n",
    "    numeric_features_test[:,2] = (rolloff_test-rolloff_min)/(rolloff_max-rolloff_min)\n",
    "    numeric_features[:,3] = (bandwidth-bandwidth_min)/(bandwidth_max-bandwidth_min)\n",
    "    \n",
    "    return (model.predict([numeric_features_test,mfcc_test]))"
   ]
  },
  {
   "cell_type": "markdown",
   "metadata": {},
   "source": [
    "# Instrument Recognition Example"
   ]
  },
  {
   "cell_type": "code",
   "execution_count": 23,
   "metadata": {},
   "outputs": [
    {
     "name": "stdout",
     "output_type": "stream",
     "text": [
      " guitar_acoustic\n"
     ]
    },
    {
     "data": {
      "image/png": "[encoded data removed]",
      "text/plain": [
       "<Figure size 1440x504 with 1 Axes>"
      ]
     },
     "metadata": {
      "needs_background": "light"
     },
     "output_type": "display_data"
    }
   ],
   "source": [
    "y,sr = librosa.load(r'D:\\Genre Classification\\Instrument\\nsynth-test\\audio\\guitar_acoustic_021-051-100.wav')\n",
    "prob = probability(y)\n",
    "x=np.array(['bass_electronic','bass_synthetic','brass_acoustic','flute_synthetic','guitar_acoustic','guitar_electronic','keyboard_acoustic','keyboard_electronic','keyboard_synthetic','vocal_synthetic','organ_electronic'])\n",
    "row = np.shape(prob)\n",
    "rows=row[0]\n",
    "column_sums=(prob.sum(axis=0))/rows\n",
    "max_1=np.argmax(column_sums)\n",
    "print(\"\",x[max_1])\n",
    "plt.figure(figsize=(20,7))\n",
    "plt.bar(x,column_sums*100,width=0.5)\n",
    "plt.title('INSTRUMENT RECOGNITION')\n",
    "plt.xlabel('INSTRUMENTS')\n",
    "plt.ylabel('PERCENTAGE')\n",
    "plt.grid()\n",
    "plt.show()"
   ]
  },
  {
   "cell_type": "code",
   "execution_count": null,
   "metadata": {},
   "outputs": [],
   "source": []
  },
  {
   "cell_type": "code",
   "execution_count": null,
   "metadata": {},
   "outputs": [],
   "source": []
  }
 ],
 "metadata": {
  "kernelspec": {
   "display_name": "Python 3",
   "language": "python",
   "name": "python3"
  },
  "language_info": {
   "codemirror_mode": {
    "name": "ipython",
    "version": 3
   },
   "file_extension": ".py",
   "mimetype": "text/x-python",
   "name": "python",
   "nbconvert_exporter": "python",
   "pygments_lexer": "ipython3",
   "version": "3.7.4"
  }
 },
 "nbformat": 4,
 "nbformat_minor": 4
}
